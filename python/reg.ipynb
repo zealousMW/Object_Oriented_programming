{
 "cells": [
  {
   "cell_type": "code",
   "execution_count": 40,
   "id": "eed6db52",
   "metadata": {},
   "outputs": [],
   "source": [
    "from sklearn.linear_model import LogisticRegression\n",
    "from sklearn.linear_model import LinearRegression\n",
    "from sklearn.model_selection import train_test_split\n",
    "import pandas as pd"
   ]
  },
  {
   "cell_type": "code",
   "execution_count": 49,
   "id": "2598d4c5",
   "metadata": {},
   "outputs": [],
   "source": [
    "model = LogisticRegression()\n",
    "model2 = LinearRegression()\n"
   ]
  },
  {
   "cell_type": "code",
   "execution_count": 50,
   "id": "eefe372c",
   "metadata": {},
   "outputs": [],
   "source": [
    "df = pd.read_csv('pima-indians-diabetes.csv')"
   ]
  },
  {
   "cell_type": "code",
   "execution_count": 51,
   "id": "1ba7518e",
   "metadata": {},
   "outputs": [
    {
     "data": {
      "text/html": [
       "<div>\n",
       "<style scoped>\n",
       "    .dataframe tbody tr th:only-of-type {\n",
       "        vertical-align: middle;\n",
       "    }\n",
       "\n",
       "    .dataframe tbody tr th {\n",
       "        vertical-align: top;\n",
       "    }\n",
       "\n",
       "    .dataframe thead th {\n",
       "        text-align: right;\n",
       "    }\n",
       "</style>\n",
       "<table border=\"1\" class=\"dataframe\">\n",
       "  <thead>\n",
       "    <tr style=\"text-align: right;\">\n",
       "      <th></th>\n",
       "      <th>Pregnancies</th>\n",
       "      <th>Glucose</th>\n",
       "      <th>BloodPressure</th>\n",
       "      <th>SkinThickness</th>\n",
       "      <th>Insulin</th>\n",
       "      <th>BMI</th>\n",
       "      <th>DiabetesPedigreeFunction</th>\n",
       "      <th>Age</th>\n",
       "      <th>Class</th>\n",
       "    </tr>\n",
       "  </thead>\n",
       "  <tbody>\n",
       "    <tr>\n",
       "      <th>0</th>\n",
       "      <td>6</td>\n",
       "      <td>148</td>\n",
       "      <td>72</td>\n",
       "      <td>35</td>\n",
       "      <td>0</td>\n",
       "      <td>33.6</td>\n",
       "      <td>0.627</td>\n",
       "      <td>50</td>\n",
       "      <td>1</td>\n",
       "    </tr>\n",
       "    <tr>\n",
       "      <th>1</th>\n",
       "      <td>1</td>\n",
       "      <td>85</td>\n",
       "      <td>66</td>\n",
       "      <td>29</td>\n",
       "      <td>0</td>\n",
       "      <td>26.6</td>\n",
       "      <td>0.351</td>\n",
       "      <td>31</td>\n",
       "      <td>0</td>\n",
       "    </tr>\n",
       "    <tr>\n",
       "      <th>2</th>\n",
       "      <td>8</td>\n",
       "      <td>183</td>\n",
       "      <td>64</td>\n",
       "      <td>0</td>\n",
       "      <td>0</td>\n",
       "      <td>23.3</td>\n",
       "      <td>0.672</td>\n",
       "      <td>32</td>\n",
       "      <td>1</td>\n",
       "    </tr>\n",
       "    <tr>\n",
       "      <th>3</th>\n",
       "      <td>1</td>\n",
       "      <td>89</td>\n",
       "      <td>66</td>\n",
       "      <td>23</td>\n",
       "      <td>94</td>\n",
       "      <td>28.1</td>\n",
       "      <td>0.167</td>\n",
       "      <td>21</td>\n",
       "      <td>0</td>\n",
       "    </tr>\n",
       "    <tr>\n",
       "      <th>4</th>\n",
       "      <td>0</td>\n",
       "      <td>137</td>\n",
       "      <td>40</td>\n",
       "      <td>35</td>\n",
       "      <td>168</td>\n",
       "      <td>43.1</td>\n",
       "      <td>2.288</td>\n",
       "      <td>33</td>\n",
       "      <td>1</td>\n",
       "    </tr>\n",
       "    <tr>\n",
       "      <th>...</th>\n",
       "      <td>...</td>\n",
       "      <td>...</td>\n",
       "      <td>...</td>\n",
       "      <td>...</td>\n",
       "      <td>...</td>\n",
       "      <td>...</td>\n",
       "      <td>...</td>\n",
       "      <td>...</td>\n",
       "      <td>...</td>\n",
       "    </tr>\n",
       "    <tr>\n",
       "      <th>763</th>\n",
       "      <td>10</td>\n",
       "      <td>101</td>\n",
       "      <td>76</td>\n",
       "      <td>48</td>\n",
       "      <td>180</td>\n",
       "      <td>32.9</td>\n",
       "      <td>0.171</td>\n",
       "      <td>63</td>\n",
       "      <td>0</td>\n",
       "    </tr>\n",
       "    <tr>\n",
       "      <th>764</th>\n",
       "      <td>2</td>\n",
       "      <td>122</td>\n",
       "      <td>70</td>\n",
       "      <td>27</td>\n",
       "      <td>0</td>\n",
       "      <td>36.8</td>\n",
       "      <td>0.340</td>\n",
       "      <td>27</td>\n",
       "      <td>0</td>\n",
       "    </tr>\n",
       "    <tr>\n",
       "      <th>765</th>\n",
       "      <td>5</td>\n",
       "      <td>121</td>\n",
       "      <td>72</td>\n",
       "      <td>23</td>\n",
       "      <td>112</td>\n",
       "      <td>26.2</td>\n",
       "      <td>0.245</td>\n",
       "      <td>30</td>\n",
       "      <td>0</td>\n",
       "    </tr>\n",
       "    <tr>\n",
       "      <th>766</th>\n",
       "      <td>1</td>\n",
       "      <td>126</td>\n",
       "      <td>60</td>\n",
       "      <td>0</td>\n",
       "      <td>0</td>\n",
       "      <td>30.1</td>\n",
       "      <td>0.349</td>\n",
       "      <td>47</td>\n",
       "      <td>1</td>\n",
       "    </tr>\n",
       "    <tr>\n",
       "      <th>767</th>\n",
       "      <td>1</td>\n",
       "      <td>93</td>\n",
       "      <td>70</td>\n",
       "      <td>31</td>\n",
       "      <td>0</td>\n",
       "      <td>30.4</td>\n",
       "      <td>0.315</td>\n",
       "      <td>23</td>\n",
       "      <td>0</td>\n",
       "    </tr>\n",
       "  </tbody>\n",
       "</table>\n",
       "<p>768 rows × 9 columns</p>\n",
       "</div>"
      ],
      "text/plain": [
       "     Pregnancies  Glucose  BloodPressure  SkinThickness  Insulin   BMI  \\\n",
       "0              6      148             72             35        0  33.6   \n",
       "1              1       85             66             29        0  26.6   \n",
       "2              8      183             64              0        0  23.3   \n",
       "3              1       89             66             23       94  28.1   \n",
       "4              0      137             40             35      168  43.1   \n",
       "..           ...      ...            ...            ...      ...   ...   \n",
       "763           10      101             76             48      180  32.9   \n",
       "764            2      122             70             27        0  36.8   \n",
       "765            5      121             72             23      112  26.2   \n",
       "766            1      126             60              0        0  30.1   \n",
       "767            1       93             70             31        0  30.4   \n",
       "\n",
       "     DiabetesPedigreeFunction  Age  Class  \n",
       "0                       0.627   50      1  \n",
       "1                       0.351   31      0  \n",
       "2                       0.672   32      1  \n",
       "3                       0.167   21      0  \n",
       "4                       2.288   33      1  \n",
       "..                        ...  ...    ...  \n",
       "763                     0.171   63      0  \n",
       "764                     0.340   27      0  \n",
       "765                     0.245   30      0  \n",
       "766                     0.349   47      1  \n",
       "767                     0.315   23      0  \n",
       "\n",
       "[768 rows x 9 columns]"
      ]
     },
     "execution_count": 51,
     "metadata": {},
     "output_type": "execute_result"
    }
   ],
   "source": [
    "df"
   ]
  },
  {
   "cell_type": "code",
   "execution_count": 52,
   "id": "6e024b87",
   "metadata": {},
   "outputs": [],
   "source": [
    "xtrain,xtest,ytrain,ytest = train_test_split(\n",
    "    df[['Age','Pregnancies','BloodPressure','BMI','Glucose']],\n",
    "    df.Class,\n",
    "    test_size=0.3,   \n",
    ")"
   ]
  },
  {
   "cell_type": "code",
   "execution_count": 53,
   "id": "0b575b4f",
   "metadata": {},
   "outputs": [
    {
     "data": {
      "text/html": [
       "<div>\n",
       "<style scoped>\n",
       "    .dataframe tbody tr th:only-of-type {\n",
       "        vertical-align: middle;\n",
       "    }\n",
       "\n",
       "    .dataframe tbody tr th {\n",
       "        vertical-align: top;\n",
       "    }\n",
       "\n",
       "    .dataframe thead th {\n",
       "        text-align: right;\n",
       "    }\n",
       "</style>\n",
       "<table border=\"1\" class=\"dataframe\">\n",
       "  <thead>\n",
       "    <tr style=\"text-align: right;\">\n",
       "      <th></th>\n",
       "      <th>Age</th>\n",
       "      <th>Pregnancies</th>\n",
       "      <th>BloodPressure</th>\n",
       "      <th>BMI</th>\n",
       "      <th>Glucose</th>\n",
       "    </tr>\n",
       "  </thead>\n",
       "  <tbody>\n",
       "    <tr>\n",
       "      <th>54</th>\n",
       "      <td>42</td>\n",
       "      <td>7</td>\n",
       "      <td>66</td>\n",
       "      <td>34.7</td>\n",
       "      <td>150</td>\n",
       "    </tr>\n",
       "    <tr>\n",
       "      <th>134</th>\n",
       "      <td>26</td>\n",
       "      <td>2</td>\n",
       "      <td>68</td>\n",
       "      <td>21.1</td>\n",
       "      <td>96</td>\n",
       "    </tr>\n",
       "    <tr>\n",
       "      <th>440</th>\n",
       "      <td>41</td>\n",
       "      <td>0</td>\n",
       "      <td>104</td>\n",
       "      <td>34.3</td>\n",
       "      <td>189</td>\n",
       "    </tr>\n",
       "    <tr>\n",
       "      <th>633</th>\n",
       "      <td>22</td>\n",
       "      <td>1</td>\n",
       "      <td>82</td>\n",
       "      <td>27.5</td>\n",
       "      <td>128</td>\n",
       "    </tr>\n",
       "    <tr>\n",
       "      <th>449</th>\n",
       "      <td>26</td>\n",
       "      <td>0</td>\n",
       "      <td>74</td>\n",
       "      <td>30.5</td>\n",
       "      <td>120</td>\n",
       "    </tr>\n",
       "    <tr>\n",
       "      <th>...</th>\n",
       "      <td>...</td>\n",
       "      <td>...</td>\n",
       "      <td>...</td>\n",
       "      <td>...</td>\n",
       "      <td>...</td>\n",
       "    </tr>\n",
       "    <tr>\n",
       "      <th>727</th>\n",
       "      <td>22</td>\n",
       "      <td>0</td>\n",
       "      <td>84</td>\n",
       "      <td>32.4</td>\n",
       "      <td>141</td>\n",
       "    </tr>\n",
       "    <tr>\n",
       "      <th>363</th>\n",
       "      <td>67</td>\n",
       "      <td>4</td>\n",
       "      <td>78</td>\n",
       "      <td>38.5</td>\n",
       "      <td>146</td>\n",
       "    </tr>\n",
       "    <tr>\n",
       "      <th>47</th>\n",
       "      <td>22</td>\n",
       "      <td>2</td>\n",
       "      <td>70</td>\n",
       "      <td>28.0</td>\n",
       "      <td>71</td>\n",
       "    </tr>\n",
       "    <tr>\n",
       "      <th>42</th>\n",
       "      <td>48</td>\n",
       "      <td>7</td>\n",
       "      <td>92</td>\n",
       "      <td>22.7</td>\n",
       "      <td>106</td>\n",
       "    </tr>\n",
       "    <tr>\n",
       "      <th>566</th>\n",
       "      <td>21</td>\n",
       "      <td>1</td>\n",
       "      <td>72</td>\n",
       "      <td>38.6</td>\n",
       "      <td>99</td>\n",
       "    </tr>\n",
       "  </tbody>\n",
       "</table>\n",
       "<p>537 rows × 5 columns</p>\n",
       "</div>"
      ],
      "text/plain": [
       "     Age  Pregnancies  BloodPressure   BMI  Glucose\n",
       "54    42            7             66  34.7      150\n",
       "134   26            2             68  21.1       96\n",
       "440   41            0            104  34.3      189\n",
       "633   22            1             82  27.5      128\n",
       "449   26            0             74  30.5      120\n",
       "..   ...          ...            ...   ...      ...\n",
       "727   22            0             84  32.4      141\n",
       "363   67            4             78  38.5      146\n",
       "47    22            2             70  28.0       71\n",
       "42    48            7             92  22.7      106\n",
       "566   21            1             72  38.6       99\n",
       "\n",
       "[537 rows x 5 columns]"
      ]
     },
     "execution_count": 53,
     "metadata": {},
     "output_type": "execute_result"
    }
   ],
   "source": [
    "xtrain"
   ]
  },
  {
   "cell_type": "code",
   "execution_count": 54,
   "id": "cb43881b",
   "metadata": {},
   "outputs": [
    {
     "data": {
      "text/plain": [
       "54     0\n",
       "134    0\n",
       "440    1\n",
       "633    0\n",
       "449    0\n",
       "      ..\n",
       "727    0\n",
       "363    1\n",
       "47     0\n",
       "42     0\n",
       "566    0\n",
       "Name: Class, Length: 537, dtype: int64"
      ]
     },
     "execution_count": 54,
     "metadata": {},
     "output_type": "execute_result"
    }
   ],
   "source": [
    "ytrain"
   ]
  },
  {
   "cell_type": "code",
   "execution_count": 55,
   "id": "c7abf9b8",
   "metadata": {},
   "outputs": [
    {
     "ename": "TypeError",
     "evalue": "LogisticRegression.fit() missing 1 required positional argument: 'y'",
     "output_type": "error",
     "traceback": [
      "\u001b[1;31m---------------------------------------------------------------------------\u001b[0m",
      "\u001b[1;31mTypeError\u001b[0m                                 Traceback (most recent call last)",
      "Cell \u001b[1;32mIn [55], line 1\u001b[0m\n\u001b[1;32m----> 1\u001b[0m \u001b[43mmodel\u001b[49m\u001b[38;5;241;43m.\u001b[39;49m\u001b[43mfit\u001b[49m\u001b[43m(\u001b[49m\u001b[43mxtrain\u001b[49m\u001b[43m,\u001b[49m\u001b[43mytrain\u001b[49m\u001b[43m)\u001b[49m\n",
      "\u001b[1;31mTypeError\u001b[0m: LogisticRegression.fit() missing 1 required positional argument: 'y'"
     ]
    }
   ],
   "source": [
    "model.fit(xtrain,ytrain)"
   ]
  },
  {
   "cell_type": "code",
   "execution_count": 56,
   "id": "18b2a672",
   "metadata": {},
   "outputs": [
    {
     "ename": "TypeError",
     "evalue": "ClassifierMixin.score() missing 1 required positional argument: 'y'",
     "output_type": "error",
     "traceback": [
      "\u001b[1;31m---------------------------------------------------------------------------\u001b[0m",
      "\u001b[1;31mTypeError\u001b[0m                                 Traceback (most recent call last)",
      "Cell \u001b[1;32mIn [56], line 1\u001b[0m\n\u001b[1;32m----> 1\u001b[0m \u001b[43mmodel\u001b[49m\u001b[38;5;241;43m.\u001b[39;49m\u001b[43mscore\u001b[49m\u001b[43m(\u001b[49m\u001b[43mxtest\u001b[49m\u001b[43m,\u001b[49m\u001b[43mytest\u001b[49m\u001b[43m)\u001b[49m\n",
      "\u001b[1;31mTypeError\u001b[0m: ClassifierMixin.score() missing 1 required positional argument: 'y'"
     ]
    }
   ],
   "source": [
    "model.score(xtest,ytest)"
   ]
  },
  {
   "cell_type": "code",
   "execution_count": 24,
   "id": "e06a21f7",
   "metadata": {},
   "outputs": [],
   "source": [
    "x = model.predict(xtest)"
   ]
  },
  {
   "cell_type": "code",
   "execution_count": 31,
   "id": "d433bb6f",
   "metadata": {},
   "outputs": [
    {
     "name": "stderr",
     "output_type": "stream",
     "text": [
      "C:\\Users\\CSELAB1SYS10\\AppData\\Local\\Programs\\Python\\Python310\\lib\\site-packages\\sklearn\\base.py:450: UserWarning: X does not have valid feature names, but LogisticRegression was fitted with feature names\n",
      "  warnings.warn(\n"
     ]
    },
    {
     "data": {
      "text/plain": [
       "array([1], dtype=int64)"
      ]
     },
     "execution_count": 31,
     "metadata": {},
     "output_type": "execute_result"
    }
   ],
   "source": [
    "model.predict([[67,0,200,110.0,140]])"
   ]
  },
  {
   "cell_type": "code",
   "execution_count": 34,
   "id": "5cc31115",
   "metadata": {},
   "outputs": [],
   "source": [
    "xtrain,xtest,ytrain,ytest = train_test_split(\n",
    "    df[['Pregnancies','BloodPressure','BMI','Glucose','Class']],\n",
    "    df.Age,\n",
    "    test_size=0.3,   \n",
    ")"
   ]
  },
  {
   "cell_type": "code",
   "execution_count": 35,
   "id": "e864d6a1",
   "metadata": {},
   "outputs": [
    {
     "data": {
      "text/html": [
       "<div>\n",
       "<style scoped>\n",
       "    .dataframe tbody tr th:only-of-type {\n",
       "        vertical-align: middle;\n",
       "    }\n",
       "\n",
       "    .dataframe tbody tr th {\n",
       "        vertical-align: top;\n",
       "    }\n",
       "\n",
       "    .dataframe thead th {\n",
       "        text-align: right;\n",
       "    }\n",
       "</style>\n",
       "<table border=\"1\" class=\"dataframe\">\n",
       "  <thead>\n",
       "    <tr style=\"text-align: right;\">\n",
       "      <th></th>\n",
       "      <th>Pregnancies</th>\n",
       "      <th>BloodPressure</th>\n",
       "      <th>BMI</th>\n",
       "      <th>Glucose</th>\n",
       "      <th>Class</th>\n",
       "    </tr>\n",
       "  </thead>\n",
       "  <tbody>\n",
       "    <tr>\n",
       "      <th>75</th>\n",
       "      <td>1</td>\n",
       "      <td>48</td>\n",
       "      <td>24.7</td>\n",
       "      <td>0</td>\n",
       "      <td>0</td>\n",
       "    </tr>\n",
       "    <tr>\n",
       "      <th>670</th>\n",
       "      <td>6</td>\n",
       "      <td>68</td>\n",
       "      <td>33.6</td>\n",
       "      <td>165</td>\n",
       "      <td>0</td>\n",
       "    </tr>\n",
       "    <tr>\n",
       "      <th>424</th>\n",
       "      <td>8</td>\n",
       "      <td>78</td>\n",
       "      <td>42.9</td>\n",
       "      <td>151</td>\n",
       "      <td>1</td>\n",
       "    </tr>\n",
       "    <tr>\n",
       "      <th>595</th>\n",
       "      <td>0</td>\n",
       "      <td>82</td>\n",
       "      <td>32.0</td>\n",
       "      <td>188</td>\n",
       "      <td>1</td>\n",
       "    </tr>\n",
       "    <tr>\n",
       "      <th>124</th>\n",
       "      <td>0</td>\n",
       "      <td>76</td>\n",
       "      <td>33.3</td>\n",
       "      <td>113</td>\n",
       "      <td>1</td>\n",
       "    </tr>\n",
       "    <tr>\n",
       "      <th>...</th>\n",
       "      <td>...</td>\n",
       "      <td>...</td>\n",
       "      <td>...</td>\n",
       "      <td>...</td>\n",
       "      <td>...</td>\n",
       "    </tr>\n",
       "    <tr>\n",
       "      <th>223</th>\n",
       "      <td>7</td>\n",
       "      <td>60</td>\n",
       "      <td>28.8</td>\n",
       "      <td>142</td>\n",
       "      <td>0</td>\n",
       "    </tr>\n",
       "    <tr>\n",
       "      <th>72</th>\n",
       "      <td>13</td>\n",
       "      <td>90</td>\n",
       "      <td>43.4</td>\n",
       "      <td>126</td>\n",
       "      <td>1</td>\n",
       "    </tr>\n",
       "    <tr>\n",
       "      <th>298</th>\n",
       "      <td>14</td>\n",
       "      <td>78</td>\n",
       "      <td>36.6</td>\n",
       "      <td>100</td>\n",
       "      <td>1</td>\n",
       "    </tr>\n",
       "    <tr>\n",
       "      <th>546</th>\n",
       "      <td>5</td>\n",
       "      <td>76</td>\n",
       "      <td>43.6</td>\n",
       "      <td>187</td>\n",
       "      <td>1</td>\n",
       "    </tr>\n",
       "    <tr>\n",
       "      <th>32</th>\n",
       "      <td>3</td>\n",
       "      <td>58</td>\n",
       "      <td>24.8</td>\n",
       "      <td>88</td>\n",
       "      <td>0</td>\n",
       "    </tr>\n",
       "  </tbody>\n",
       "</table>\n",
       "<p>537 rows × 5 columns</p>\n",
       "</div>"
      ],
      "text/plain": [
       "     Pregnancies  BloodPressure   BMI  Glucose  Class\n",
       "75             1             48  24.7        0      0\n",
       "670            6             68  33.6      165      0\n",
       "424            8             78  42.9      151      1\n",
       "595            0             82  32.0      188      1\n",
       "124            0             76  33.3      113      1\n",
       "..           ...            ...   ...      ...    ...\n",
       "223            7             60  28.8      142      0\n",
       "72            13             90  43.4      126      1\n",
       "298           14             78  36.6      100      1\n",
       "546            5             76  43.6      187      1\n",
       "32             3             58  24.8       88      0\n",
       "\n",
       "[537 rows x 5 columns]"
      ]
     },
     "execution_count": 35,
     "metadata": {},
     "output_type": "execute_result"
    }
   ],
   "source": [
    "xtrain"
   ]
  },
  {
   "cell_type": "code",
   "execution_count": 36,
   "id": "4085ef90",
   "metadata": {},
   "outputs": [
    {
     "data": {
      "text/plain": [
       "75     22\n",
       "670    49\n",
       "424    36\n",
       "595    22\n",
       "124    23\n",
       "       ..\n",
       "223    61\n",
       "72     42\n",
       "298    46\n",
       "546    53\n",
       "32     22\n",
       "Name: Age, Length: 537, dtype: int64"
      ]
     },
     "execution_count": 36,
     "metadata": {},
     "output_type": "execute_result"
    }
   ],
   "source": [
    "ytrain"
   ]
  },
  {
   "cell_type": "code",
   "execution_count": 38,
   "id": "b763e9fa",
   "metadata": {},
   "outputs": [
    {
     "ename": "TypeError",
     "evalue": "LinearRegression.fit() missing 1 required positional argument: 'y'",
     "output_type": "error",
     "traceback": [
      "\u001b[1;31m---------------------------------------------------------------------------\u001b[0m",
      "\u001b[1;31mTypeError\u001b[0m                                 Traceback (most recent call last)",
      "Cell \u001b[1;32mIn [38], line 1\u001b[0m\n\u001b[1;32m----> 1\u001b[0m \u001b[43mmodel2\u001b[49m\u001b[38;5;241;43m.\u001b[39;49m\u001b[43mfit\u001b[49m\u001b[43m(\u001b[49m\u001b[43mxtrain\u001b[49m\u001b[43m,\u001b[49m\u001b[43mytrain\u001b[49m\u001b[43m)\u001b[49m\n",
      "\u001b[1;31mTypeError\u001b[0m: LinearRegression.fit() missing 1 required positional argument: 'y'"
     ]
    }
   ],
   "source": [
    "model2.fit(xtrain,ytrain)"
   ]
  },
  {
   "cell_type": "code",
   "execution_count": 39,
   "id": "1a4125dd",
   "metadata": {},
   "outputs": [],
   "source": [
    "model2.fit??"
   ]
  },
  {
   "cell_type": "code",
   "execution_count": 43,
   "id": "d856b07e",
   "metadata": {},
   "outputs": [],
   "source": [
    "dataset = pd.read_csv(\"dia.csv\")\n",
    "model3 = LinearRegression()"
   ]
  },
  {
   "cell_type": "code",
   "execution_count": 44,
   "id": "a078ad19",
   "metadata": {},
   "outputs": [],
   "source": [
    "x = dataset.iloc[:,:-1].values"
   ]
  },
  {
   "cell_type": "code",
   "execution_count": 45,
   "id": "13993453",
   "metadata": {},
   "outputs": [],
   "source": [
    "y = dataset.iloc[:,:-1].values"
   ]
  },
  {
   "cell_type": "code",
   "execution_count": 56,
   "id": "23074bf9",
   "metadata": {},
   "outputs": [],
   "source": [
    "result = model3.fit(x,y)"
   ]
  },
  {
   "cell_type": "code",
   "execution_count": 61,
   "id": "e1e0e03e",
   "metadata": {},
   "outputs": [
    {
     "data": {
      "text/plain": [
       "array([[ 6.00000000e+00,  1.48000000e+02,  7.20000000e+01,\n",
       "         3.50000000e+01, -6.01756525e-14,  3.36000000e+01,\n",
       "         6.27000000e-01,  5.00000000e+01]])"
      ]
     },
     "execution_count": 61,
     "metadata": {},
     "output_type": "execute_result"
    }
   ],
   "source": [
    "model3.predict(x[[0]])"
   ]
  },
  {
   "cell_type": "code",
   "execution_count": 48,
   "id": "87774754",
   "metadata": {},
   "outputs": [
    {
     "ename": "AttributeError",
     "evalue": "'LinearRegression' object has no attribute 'summary'",
     "output_type": "error",
     "traceback": [
      "\u001b[1;31m---------------------------------------------------------------------------\u001b[0m",
      "\u001b[1;31mAttributeError\u001b[0m                            Traceback (most recent call last)",
      "Cell \u001b[1;32mIn [48], line 1\u001b[0m\n\u001b[1;32m----> 1\u001b[0m \u001b[43mmodel3\u001b[49m\u001b[38;5;241;43m.\u001b[39;49m\u001b[43msummary\u001b[49m()\n",
      "\u001b[1;31mAttributeError\u001b[0m: 'LinearRegression' object has no attribute 'summary'"
     ]
    }
   ],
   "source": [
    "model3"
   ]
  },
  {
   "cell_type": "code",
   "execution_count": 4,
   "id": "08447331",
   "metadata": {},
   "outputs": [
    {
     "name": "stdout",
     "output_type": "stream",
     "text": [
      "Collecting statsmodels\n",
      "  Downloading statsmodels-0.13.5-cp310-cp310-win_amd64.whl (9.1 MB)\n",
      "     ---------------------------------------- 9.1/9.1 MB 1.4 MB/s eta 0:00:00\n",
      "Requirement already satisfied: packaging>=21.3 in c:\\users\\cselab1sys10\\appdata\\local\\programs\\python\\python310\\lib\\site-packages (from statsmodels) (21.3)\n",
      "Requirement already satisfied: pandas>=0.25 in c:\\users\\cselab1sys10\\appdata\\local\\programs\\python\\python310\\lib\\site-packages (from statsmodels) (1.5.1)\n",
      "Collecting patsy>=0.5.2\n",
      "  Downloading patsy-0.5.3-py2.py3-none-any.whl (233 kB)\n",
      "     ------------------------------------ 233.8/233.8 kB 955.5 kB/s eta 0:00:00\n",
      "Requirement already satisfied: numpy>=1.22.3 in c:\\users\\cselab1sys10\\appdata\\local\\programs\\python\\python310\\lib\\site-packages (from statsmodels) (1.23.4)\n",
      "Requirement already satisfied: scipy>=1.3 in c:\\users\\cselab1sys10\\appdata\\local\\programs\\python\\python310\\lib\\site-packages (from statsmodels) (1.9.2)\n",
      "Requirement already satisfied: pyparsing!=3.0.5,>=2.0.2 in c:\\users\\cselab1sys10\\appdata\\local\\programs\\python\\python310\\lib\\site-packages (from packaging>=21.3->statsmodels) (3.0.9)\n",
      "Requirement already satisfied: pytz>=2020.1 in c:\\users\\cselab1sys10\\appdata\\local\\programs\\python\\python310\\lib\\site-packages (from pandas>=0.25->statsmodels) (2022.5)\n",
      "Requirement already satisfied: python-dateutil>=2.8.1 in c:\\users\\cselab1sys10\\appdata\\local\\programs\\python\\python310\\lib\\site-packages (from pandas>=0.25->statsmodels) (2.8.2)\n",
      "Requirement already satisfied: six in c:\\users\\cselab1sys10\\appdata\\local\\programs\\python\\python310\\lib\\site-packages (from patsy>=0.5.2->statsmodels) (1.16.0)\n",
      "Installing collected packages: patsy, statsmodels\n",
      "Successfully installed patsy-0.5.3 statsmodels-0.13.5\n",
      "Note: you may need to restart the kernel to use updated packages.\n"
     ]
    },
    {
     "name": "stderr",
     "output_type": "stream",
     "text": [
      "\n",
      "[notice] A new release of pip available: 22.2.2 -> 22.3.1\n",
      "[notice] To update, run: python.exe -m pip install --upgrade pip\n"
     ]
    }
   ],
   "source": [
    "pip install statsmodels"
   ]
  },
  {
   "cell_type": "code",
   "execution_count": 27,
   "id": "3ca1fbf9",
   "metadata": {},
   "outputs": [],
   "source": [
    "import pandas as pd \n",
    "import statsmodels.api as sm\n",
    "import numpy as np"
   ]
  },
  {
   "cell_type": "code",
   "execution_count": 28,
   "id": "f0566f7a",
   "metadata": {},
   "outputs": [],
   "source": [
    "dataset = pd.read_csv(\"dia.csv\")"
   ]
  },
  {
   "cell_type": "code",
   "execution_count": 29,
   "id": "f97a372b",
   "metadata": {},
   "outputs": [],
   "source": [
    "x = dataset.iloc[:,:-1].values"
   ]
  },
  {
   "cell_type": "code",
   "execution_count": 69,
   "id": "e80b0a8d",
   "metadata": {},
   "outputs": [],
   "source": [
    "y = dataset.iloc[:,:-1].values"
   ]
  },
  {
   "cell_type": "code",
   "execution_count": null,
   "id": "c205ee6a",
   "metadata": {},
   "outputs": [],
   "source": []
  },
  {
   "cell_type": "code",
   "execution_count": 70,
   "id": "5d0d6f3f",
   "metadata": {},
   "outputs": [
    {
     "data": {
      "text/plain": [
       "array([[  6.   , 148.   ,  72.   , ...,  33.6  ,   0.627,  50.   ],\n",
       "       [  1.   ,  85.   ,  66.   , ...,  26.6  ,   0.351,  31.   ],\n",
       "       [  8.   , 183.   ,  64.   , ...,  23.3  ,   0.672,  32.   ],\n",
       "       ...,\n",
       "       [  5.   , 121.   ,  72.   , ...,  26.2  ,   0.245,  30.   ],\n",
       "       [  1.   , 126.   ,  60.   , ...,  30.1  ,   0.349,  47.   ],\n",
       "       [  1.   ,  93.   ,  70.   , ...,  30.4  ,   0.315,  23.   ]])"
      ]
     },
     "execution_count": 70,
     "metadata": {},
     "output_type": "execute_result"
    }
   ],
   "source": [
    "x"
   ]
  },
  {
   "cell_type": "code",
   "execution_count": 71,
   "id": "0f453515",
   "metadata": {},
   "outputs": [],
   "source": [
    "y = dataset.loc[:,\"Outcome\"].values"
   ]
  },
  {
   "cell_type": "code",
   "execution_count": 72,
   "id": "4f5794d4",
   "metadata": {},
   "outputs": [
    {
     "data": {
      "text/plain": [
       "array([1, 0, 1, 0, 1, 0, 1, 0, 1, 1, 0, 1, 0, 1, 1, 1, 1, 1, 0, 1, 0, 0,\n",
       "       1, 1, 1, 1, 1, 0, 0, 0, 0, 1, 0, 0, 0, 0, 0, 1, 1, 1, 0, 0, 0, 1,\n",
       "       0, 1, 0, 0, 1, 0, 0, 0, 0, 1, 0, 0, 1, 0, 0, 0, 0, 1, 0, 0, 1, 0,\n",
       "       1, 0, 0, 0, 1, 0, 1, 0, 0, 0, 0, 0, 1, 0, 0, 0, 0, 0, 1, 0, 0, 0,\n",
       "       1, 0, 0, 0, 0, 1, 0, 0, 0, 0, 0, 1, 1, 0, 0, 0, 0, 0, 0, 0, 0, 1,\n",
       "       1, 1, 0, 0, 1, 1, 1, 0, 0, 0, 1, 0, 0, 0, 1, 1, 0, 0, 1, 1, 1, 1,\n",
       "       1, 0, 0, 0, 0, 0, 0, 0, 0, 0, 0, 1, 0, 0, 0, 0, 0, 0, 0, 0, 1, 0,\n",
       "       1, 1, 0, 0, 0, 1, 0, 0, 0, 0, 1, 1, 0, 0, 0, 0, 1, 1, 0, 0, 0, 1,\n",
       "       0, 1, 0, 1, 0, 0, 0, 0, 0, 1, 1, 1, 1, 1, 0, 0, 1, 1, 0, 1, 0, 1,\n",
       "       1, 1, 0, 0, 0, 0, 0, 0, 1, 1, 0, 1, 0, 0, 0, 1, 1, 1, 1, 0, 1, 1,\n",
       "       1, 1, 0, 0, 0, 0, 0, 1, 0, 0, 1, 1, 0, 0, 0, 1, 1, 1, 1, 0, 0, 0,\n",
       "       1, 1, 0, 1, 0, 0, 0, 0, 0, 0, 0, 0, 1, 1, 0, 0, 0, 1, 0, 1, 0, 0,\n",
       "       1, 0, 1, 0, 0, 1, 1, 0, 0, 0, 0, 0, 1, 0, 0, 0, 1, 0, 0, 1, 1, 0,\n",
       "       0, 1, 0, 0, 0, 1, 1, 1, 0, 0, 1, 0, 1, 0, 1, 1, 0, 1, 0, 0, 1, 0,\n",
       "       1, 1, 0, 0, 1, 0, 1, 0, 0, 1, 0, 1, 0, 1, 1, 1, 0, 0, 1, 0, 1, 0,\n",
       "       0, 0, 1, 0, 0, 0, 0, 1, 1, 1, 0, 0, 0, 0, 0, 0, 0, 0, 0, 1, 0, 0,\n",
       "       0, 0, 0, 1, 1, 1, 0, 1, 1, 0, 0, 1, 0, 0, 1, 0, 0, 1, 1, 0, 0, 0,\n",
       "       0, 1, 0, 0, 1, 0, 0, 0, 0, 0, 0, 0, 1, 1, 1, 0, 0, 1, 0, 0, 1, 0,\n",
       "       0, 1, 0, 1, 1, 0, 1, 0, 1, 0, 1, 0, 1, 1, 0, 0, 0, 0, 1, 1, 0, 1,\n",
       "       0, 1, 0, 0, 0, 0, 1, 1, 0, 1, 0, 1, 0, 0, 0, 0, 0, 1, 0, 0, 0, 0,\n",
       "       1, 0, 0, 1, 1, 1, 0, 0, 1, 0, 0, 1, 0, 0, 0, 1, 0, 0, 1, 0, 0, 0,\n",
       "       0, 0, 0, 0, 0, 0, 1, 0, 0, 0, 0, 0, 0, 0, 1, 0, 0, 0, 1, 0, 0, 0,\n",
       "       1, 1, 0, 0, 0, 0, 0, 0, 0, 1, 0, 0, 0, 0, 1, 0, 0, 0, 1, 0, 0, 0,\n",
       "       1, 0, 0, 0, 1, 0, 0, 0, 0, 1, 1, 0, 0, 0, 0, 0, 0, 1, 0, 0, 0, 0,\n",
       "       0, 0, 0, 0, 0, 0, 0, 1, 0, 0, 0, 1, 1, 1, 1, 0, 0, 1, 1, 0, 0, 0,\n",
       "       0, 0, 0, 0, 0, 0, 0, 0, 0, 0, 1, 1, 0, 0, 0, 0, 0, 0, 0, 1, 0, 0,\n",
       "       0, 0, 0, 0, 0, 1, 0, 1, 1, 0, 0, 0, 1, 0, 1, 0, 1, 0, 1, 0, 1, 0,\n",
       "       0, 1, 0, 0, 1, 0, 0, 0, 0, 1, 1, 0, 1, 0, 0, 0, 0, 1, 1, 0, 1, 0,\n",
       "       0, 0, 1, 1, 0, 0, 0, 0, 0, 0, 0, 0, 0, 0, 1, 0, 0, 0, 0, 1, 0, 0,\n",
       "       1, 0, 0, 0, 1, 0, 0, 0, 1, 1, 1, 0, 0, 0, 0, 0, 0, 1, 0, 0, 0, 1,\n",
       "       0, 1, 1, 1, 1, 0, 1, 1, 0, 0, 0, 0, 0, 0, 0, 1, 1, 0, 1, 0, 0, 1,\n",
       "       0, 1, 0, 0, 0, 0, 0, 1, 0, 1, 0, 1, 0, 1, 1, 0, 0, 0, 0, 1, 1, 0,\n",
       "       0, 0, 1, 0, 1, 1, 0, 0, 1, 0, 0, 1, 1, 0, 0, 1, 0, 0, 1, 0, 0, 0,\n",
       "       0, 0, 0, 0, 1, 1, 1, 0, 0, 0, 0, 0, 0, 1, 1, 0, 0, 1, 0, 0, 1, 0,\n",
       "       1, 1, 1, 0, 0, 1, 1, 1, 0, 1, 0, 1, 0, 1, 0, 0, 0, 0, 1, 0],\n",
       "      dtype=int64)"
      ]
     },
     "execution_count": 72,
     "metadata": {},
     "output_type": "execute_result"
    }
   ],
   "source": [
    "y"
   ]
  },
  {
   "cell_type": "code",
   "execution_count": null,
   "id": "1fd2aed0",
   "metadata": {},
   "outputs": [],
   "source": []
  },
  {
   "cell_type": "code",
   "execution_count": 73,
   "id": "180dd985",
   "metadata": {},
   "outputs": [],
   "source": [
    "model = sm.OLS(y,x)"
   ]
  },
  {
   "cell_type": "code",
   "execution_count": 74,
   "id": "e7d4db59",
   "metadata": {},
   "outputs": [],
   "source": [
    "result = model.fit()"
   ]
  },
  {
   "cell_type": "code",
   "execution_count": 75,
   "id": "2c03d723",
   "metadata": {},
   "outputs": [
    {
     "data": {
      "text/plain": [
       "array([31978.353129, 20796.980077, 34123.301344, 20729.264709,\n",
       "       27480.594576, 24886.286027, 18623.755496, 19716.164018,\n",
       "       39457.899066, 28160.145464, 25691.479757, 33229.136699,\n",
       "       30153.463507, 37064.609546, 33864.248049, 17450.303468,\n",
       "       28246.225477, 23750.719258, 21844.994741, 25878.891683,\n",
       "       29107.921408, 24437.683276, 38917.562777, 27075.564901,\n",
       "       32932.919258, 27605.088535, 30744.001139, 21518.825349,\n",
       "       31703.073615, 27015.971299, 26681.942342, 32596.293577,\n",
       "       19536.447409, 22344.757876, 27994.681024, 23200.005682,\n",
       "       28827.78334 , 25322.856955, 22331.835381, 27328.43153 ,\n",
       "       34583.569917, 28975.156392, 26146.867345, 38347.892067,\n",
       "       31102.824338, 35419.386911, 28094.273628, 18546.167422,\n",
       "       24021.975688, 16782.191235, 23147.147857, 21192.449802,\n",
       "       20861.054434, 37798.612809, 31730.370186, 16582.955496,\n",
       "       37295.879258, 26359.083174, 31073.916687, 24077.508471,\n",
       "       13494.190608, 27971.60929 , 13646.368049, 28299.878273,\n",
       "       24868.241766, 23529.527281, 26510.536085, 26903.249815,\n",
       "       21181.769418, 31018.158503, 22769.983609, 28696.217697,\n",
       "       28764.605541, 28337.504837, 20323.448292,  6092.00778 ,\n",
       "       17979.605157, 23045.95199 , 22139.68929 , 24150.192489,\n",
       "       22217.72778 , 12064.063954, 21636.960909, 22534.708599,\n",
       "       31571.822329, 25074.077646, 26319.871606, 23176.803148,\n",
       "       29774.655931, 23493.503455, 17497.921766, 27288.477761,\n",
       "       22715.283647, 28839.853679, 29442.397147, 30616.199885,\n",
       "       21333.84151 , 16385.642521, 20564.543212, 29547.123775,\n",
       "       32275.166194, 28651.072233, 27218.164274, 19901.937441,\n",
       "       19953.14311 , 25715.822227, 25100.769789, 29333.379949,\n",
       "       19965.690672, 23511.794869, 33984.004773, 31804.740461,\n",
       "       22038.440384, 18128.645157, 31705.168676, 32354.657953,\n",
       "       26752.53794 , 17412.730058, 21552.797761, 22502.659821,\n",
       "       34445.995893, 24786.28302 , 24505.213308, 29676.596622,\n",
       "       24465.054306, 19808.310992, 26809.723404, 25175.043647,\n",
       "       27657.452681, 25625.904607, 33806.146347, 24911.578478,\n",
       "       33740.423212, 22130.166539, 21580.365669, 26217.735176,\n",
       "       22835.254319, 21023.653564, 27350.760781, 24408.939693,\n",
       "       28037.128036, 25899.379322, 22842.199386, 23984.810544,\n",
       "       30617.228599, 22351.358644, 18697.140192, 24258.6778  ,\n",
       "       31784.456686, 20984.333295, 29668.890173, 24162.110864,\n",
       "       33567.225503, 32538.590749, 37247.525899, 33894.211299,\n",
       "       20809.959399, 22902.242291, 21103.543583, 34569.752259,\n",
       "       32980.104338, 25366.047908, 26657.224709, 22273.150736,\n",
       "       28386.225861, 24441.092694, 29741.160512, 25375.004543,\n",
       "       23578.135317, 25750.550365, 23870.99286 , 28352.779834,\n",
       "       15914.524671, 20100.025106, 19208.15199 , 36093.170813,\n",
       "       21380.559514, 32176.760013, 30672.11913 , 28338.359412,\n",
       "       21051.572668, 25173.094575,  8014.907473, 17404.648036,\n",
       "       29147.512988, 37886.707115, 37003.745605, 30167.028267,\n",
       "       25504.84128 , 29898.986347, 22719.449034, 27950.394498,\n",
       "       31147.680141, 23803.642406, 20207.925272, 33671.087665,\n",
       "       21588.597249, 22692.865106, 24773.847435, 29681.33405 ,\n",
       "       25136.147998, 29081.507972, 24097.773449, 22299.587345,\n",
       "       25600.923148, 24775.295189, 39653.379335, 35360.814677,\n",
       "       21932.701203, 37720.022585, 19270.90183 , 32404.315125,\n",
       "       38608.222828, 28941.630237, 26603.28302 , 32164.945234,\n",
       "       24514.202278, 27090.290928, 21283.167448, 24678.243647,\n",
       "       33744.232144, 34238.264735, 20350.851043, 30551.110749,\n",
       "       22176.377582, 21705.623327, 22919.644146, 31518.328804,\n",
       "       38369.580283, 26879.775803, 29810.804415, 30775.469226,\n",
       "       20286.805541, 25602.247038, 18994.103711, 33281.260333,\n",
       "       37369.607422, 36549.190122, 33744.401037, 22832.604914,\n",
       "       20953.240384, 21864.439642, 26438.412054, 24579.386386,\n",
       "       31050.726283, 37389.760551, 26110.481766, 34962.547729,\n",
       "       27490.616814, 25452.449661, 22634.55826 , 27442.978068,\n",
       "       21601.996123, 21197.029226, 21524.940602, 24742.300461,\n",
       "       24354.709239, 24764.377684, 34800.650685, 33127.728331,\n",
       "       36445.427473, 23244.477147, 22522.943724, 31557.7654  ,\n",
       "       25517.341702, 23475.585119, 22894.264991, 27578.690327,\n",
       "       20733.408906, 23944.15048 , 25927.872272, 23476.800256,\n",
       "       26462.959258, 20045.784594, 24555.277377, 24283.224479,\n",
       "       23230.585592, 22889.364658, 25917.106488, 22760.632387,\n",
       "       29321.649418, 28760.41556 , 29525.804274, 33433.543455,\n",
       "       25263.362393, 29832.005669, 33558.708113, 28157.666616,\n",
       "       20858.09318 , 25566.124901, 21185.112118, 23830.234639,\n",
       "       28872.647448, 26542.184351, 31413.999258, 30526.233884,\n",
       "       30381.011299, 27942.84604 , 24905.018324, 25501.48668 ,\n",
       "       27301.806053, 28967.024594, 21717.977812, 27283.571043,\n",
       "       30245.729789, 27323.054805, 32796.004402, 27545.369661,\n",
       "       26780.672157, 26845.988625, 20608.516251, 24447.219335,\n",
       "       31119.031491, 22933.592502, 26375.946629, 24699.957505,\n",
       "       22963.658068, 34757.016315, 25835.25405 , 38103.680883,\n",
       "       26330.330429, 25283.883519, 26812.799258, 33259.938337,\n",
       "       25357.612796, 31221.237121, 26469.793884, 34621.4854  ,\n",
       "       25238.879629, 24620.956494, 26438.085452, 19972.824082,\n",
       "       30151.056814, 24513.045899, 20919.20302 , 34306.602393,\n",
       "       20652.264364, 25770.535061, 32155.679911, 35824.847537,\n",
       "       26711.535944, 22799.661971,  8302.443903, 27094.10183 ,\n",
       "       23378.784095, 30035.818823, 26619.730058, 19125.717249,\n",
       "       21831.654933, 10137.816942, 22268.068599, 28896.478004,\n",
       "       19385.992361, 20324.28366 , 21439.070493, 34281.629354,\n",
       "       26025.483174, 23760.996763, 23410.317006, 38422.948625,\n",
       "       36263.685541, 32605.409789, 28912.311235, 31891.92604 ,\n",
       "       30655.881395, 22192.712873, 25949.590736, 21906.758004,\n",
       "       20782.191862, 31366.226718, 35747.579899, 23928.085337,\n",
       "       20063.221715, 23550.781075, 25933.831632, 32418.451056,\n",
       "       22879.907473, 20847.239143, 31735.029226, 25537.880167,\n",
       "       24311.394767, 22978.147972, 22642.033769, 20514.155036,\n",
       "       26452.618567, 23910.408535, 26376.69382 , 27753.029853,\n",
       "       32131.483404, 22981.355023, 23748.478388, 32955.73318 ,\n",
       "       26338.563903, 25388.850301, 31679.943481, 26005.7232  ,\n",
       "       22228.511888, 27792.602892, 19153.203903, 37129.791107,\n",
       "       21317.300947, 28267.214677, 30567.179322, 20162.93556 ,\n",
       "       32657.524645, 25506.88604 , 25499.275752, 21398.050672,\n",
       "       37352.986757, 34898.080154, 25576.942598, 25222.171056,\n",
       "       30548.314652, 29198.480512, 28181.894818, 35124.681766,\n",
       "       22007.606565, 31503.947358, 19147.911248, 27020.177313,\n",
       "       28211.397889, 21373.951747, 23728.470992, 24495.143967,\n",
       "       32373.763532, 37030.365528, 15162.160512, 35497.965656,\n",
       "       31022.338068, 24171.146091, 16559.987716, 21999.785477,\n",
       "       19667.330429, 28294.264709, 21125.913526, 23742.768535,\n",
       "       31373.792988, 29590.912118, 21588.612169, 24994.935829,\n",
       "       39537.752745, 20035.231619, 25208.66421 , 23747.398785,\n",
       "       24722.15826 , 37708.35734 , 22660.492566, 23921.60691 ,\n",
       "       23524.27977 , 26042.978695, 19067.580205, 27005.379834,\n",
       "       22074.878887, 21883.081664, 22150.392246, 34527.092924,\n",
       "       27871.550749, 20848.948228, 33505.987627, 31289.52842 ,\n",
       "       26867.339591, 17010.740832, 20576.522035, 22497.521766,\n",
       "       26643.040794, 24621.763404, 17080.248663, 22710.8562  ,\n",
       "       20716.114741, 32778.318017, 31410.060589, 28861.62659 ,\n",
       "       25712.842393, 30154.77167 , 23675.119002, 31136.424837,\n",
       "       25469.765797, 25330.972182, 28174.341574, 30928.062713,\n",
       "       32435.015688, 28467.843519, 19884.271862, 21854.666091,\n",
       "       24495.51501 , 28967.508855, 28894.856072, 36803.126693,\n",
       "       22715.344338, 38747.305477, 20392.874383, 23939.783084,\n",
       "       23654.170915, 27415.757288, 12958.109098, 34125.950608,\n",
       "       23579.783084, 19970.702969, 38690.462201, 32211.006053,\n",
       "       26369.916251, 21404.087409,  9727.855829, 22606.342726,\n",
       "       24460.429226, 20083.044901, 37006.596878, 26382.393884,\n",
       "       18921.046936, 27464.256443, 22071.106219, 27423.689789,\n",
       "       22131.2454  , 19961.609175, 21283.256558, 32273.928036,\n",
       "       32708.563417, 28547.550608, 18798.19286 , 29511.924914,\n",
       "       18326.117249, 27700.711235, 18208.118503, 27733.528804,\n",
       "       24955.854677, 19626.758388, 21296.707473, 25122.747089,\n",
       "       25288.189111, 23484.97382 , 25119.729559, 24030.510122,\n",
       "       22144.254959, 16055.594127, 18803.664377, 21815.629354,\n",
       "       25314.683519, 16835.580845, 28221.184108, 30272.646936,\n",
       "       25050.254447, 27459.984223, 24593.157275, 22318.299693,\n",
       "       22186.428855, 38290.465221, 38238.608318, 27555.26032 ,\n",
       "       35289.293807, 39809.02636 , 25164.767908, 20718.210557,\n",
       "       27478.234869, 20488.904594, 20491.135317, 27295.900947,\n",
       "       23582.296686, 25634.228599, 25258.399002, 20735.5481  ,\n",
       "       27843.755867, 37963.994754, 21431.611427, 22177.151619,\n",
       "       21667.016827, 20427.428996, 23239.218324, 22611.253295,\n",
       "       31916.891926, 26512.607281, 19644.16929 , 27973.528036,\n",
       "       23798.46961 , 21697.044146, 30573.919284, 24873.97556 ,\n",
       "       22444.909751, 25727.874511, 27347.353615, 41939.280525,\n",
       "       32902.792617, 23623.129162, 28181.562393, 23720.43913 ,\n",
       "       28276.750749, 20043.261459, 29186.720883, 22298.636123,\n",
       "       36922.603558, 12763.174434, 27765.059975, 26477.949725,\n",
       "       28670.092054, 18870.665273, 27828.419591, 36393.627614,\n",
       "       19210.201638, 17555.430493, 34074.535176, 21580.415189,\n",
       "       25101.8108  , 16440.43913 , 27380.1427  , 32756.153884,\n",
       "       29862.372924, 26051.202278, 36324.788766, 20866.502214,\n",
       "       32509.56929 , 23309.486526, 22567.423084, 33621.811811,\n",
       "       35996.013449, 24708.550506, 30441.309239, 23107.009789,\n",
       "       26728.418439, 16820.521139, 26822.323814, 19900.728407,\n",
       "       26940.394242, 22014.184646, 37509.796047, 22408.817569,\n",
       "       22688.979066, 24041.946974, 25276.049162, 27290.886411,\n",
       "       28146.650288, 21266.012796, 24143.098964, 24471.349226,\n",
       "       22790.535061, 27473.072105, 20560.344709, 23602.611555,\n",
       "       24117.775931, 22238.166923, 23964.786117, 22609.293423,\n",
       "       24217.915765, 26360.669981, 31043.311606, 15835.18247 ,\n",
       "       23773.81771 , 32624.924018, 33081.520269, 33722.365285,\n",
       "       30518.04302 , 23068.123391, 20233.866718, 24932.972182,\n",
       "       27507.928663, 23910.765285, 23963.209034, 30191.47048 ,\n",
       "       22193.577185, 28563.768574, 30354.51913 , 21346.930084,\n",
       "       33714.834114, 38977.314038, 37419.463455, 32157.839399,\n",
       "       25873.473615, 26286.416059, 32610.147345, 25397.088407,\n",
       "       23163.66961 , 32800.342828, 33841.355637, 21087.785477,\n",
       "       22103.978695, 29672.83176 , 24016.528049, 36524.445656,\n",
       "       32817.42421 , 20520.244901, 24129.679629, 21694.504978,\n",
       "       15225.328164, 33674.788228, 22631.789482, 26719.616072,\n",
       "       29512.40128 , 27707.890557, 25742.356878, 22507.993487,\n",
       "       28924.279156, 32681.170045, 24171.096712, 35291.441139,\n",
       "       26544.315522, 29188.875253, 19691.719757, 31549.520256,\n",
       "       33577.808036, 16592.158631, 28100.574946, 25323.766808,\n",
       "       26991.542841, 28614.714255, 35997.567435, 22447.790608,\n",
       "       24780.313986, 21633.390979, 18580.163647, 25110.950352,\n",
       "       33294.172796, 21931.222598, 30713.504965, 28233.835253,\n",
       "       28160.596507, 26645.260704, 23033.275867, 35312.557902,\n",
       "       35289.28819 , 23362.533065, 24313.060205, 24599.397006,\n",
       "       21849.678759, 25220.341203, 31053.698823, 28001.917377,\n",
       "       26554.246155, 26839.987972, 26268.270992, 30014.911491,\n",
       "       34117.644402, 19483.448407, 28333.442521, 26054.402393,\n",
       "       36090.605042, 22751.667102, 24385.23112 , 22113.618068,\n",
       "       27755.962905, 18832.5762  , 21859.044031, 23857.383711,\n",
       "       28702.772195, 21317.1308  , 23001.737313, 30891.180218,\n",
       "       33667.896098, 25383.305976, 32971.704466, 21913.367192,\n",
       "       36527.295816, 31792.591606, 27341.061114, 27605.563647,\n",
       "       23429.739821, 37419.019194, 32914.917761, 29728.062739,\n",
       "       31258.445157, 27207.841766, 23726.123519, 39272.974306,\n",
       "       20176.720282, 35255.652681, 20096.089034, 26415.547217,\n",
       "       26639.69318 , 26307.473615, 26335.578823, 22066.637505])"
      ]
     },
     "execution_count": 75,
     "metadata": {},
     "output_type": "execute_result"
    }
   ],
   "source": [
    "model.predict(x[0])"
   ]
  },
  {
   "cell_type": "code",
   "execution_count": 77,
   "id": "b8e28ede",
   "metadata": {},
   "outputs": [
    {
     "data": {
      "text/html": [
       "<table class=\"simpletable\">\n",
       "<caption>OLS Regression Results</caption>\n",
       "<tr>\n",
       "  <th>Dep. Variable:</th>            <td>y</td>        <th>  R-squared (uncentered):</th>      <td>   0.487</td> \n",
       "</tr>\n",
       "<tr>\n",
       "  <th>Model:</th>                   <td>OLS</td>       <th>  Adj. R-squared (uncentered):</th> <td>   0.481</td> \n",
       "</tr>\n",
       "<tr>\n",
       "  <th>Method:</th>             <td>Least Squares</td>  <th>  F-statistic:       </th>          <td>   90.10</td> \n",
       "</tr>\n",
       "<tr>\n",
       "  <th>Date:</th>             <td>Wed, 14 Dec 2022</td> <th>  Prob (F-statistic):</th>          <td>9.04e-105</td>\n",
       "</tr>\n",
       "<tr>\n",
       "  <th>Time:</th>                 <td>14:49:43</td>     <th>  Log-Likelihood:    </th>          <td> -429.34</td> \n",
       "</tr>\n",
       "<tr>\n",
       "  <th>No. Observations:</th>      <td>   768</td>      <th>  AIC:               </th>          <td>   874.7</td> \n",
       "</tr>\n",
       "<tr>\n",
       "  <th>Df Residuals:</th>          <td>   760</td>      <th>  BIC:               </th>          <td>   911.8</td> \n",
       "</tr>\n",
       "<tr>\n",
       "  <th>Df Model:</th>              <td>     8</td>      <th>                     </th>              <td> </td>    \n",
       "</tr>\n",
       "<tr>\n",
       "  <th>Covariance Type:</th>      <td>nonrobust</td>    <th>                     </th>              <td> </td>    \n",
       "</tr>\n",
       "</table>\n",
       "<table class=\"simpletable\">\n",
       "<tr>\n",
       "   <td></td>     <th>coef</th>     <th>std err</th>      <th>t</th>      <th>P>|t|</th>  <th>[0.025</th>    <th>0.975]</th>  \n",
       "</tr>\n",
       "<tr>\n",
       "  <th>x1</th> <td>    0.0247</td> <td>    0.005</td> <td>    4.536</td> <td> 0.000</td> <td>    0.014</td> <td>    0.035</td>\n",
       "</tr>\n",
       "<tr>\n",
       "  <th>x2</th> <td>    0.0039</td> <td>    0.001</td> <td>    7.701</td> <td> 0.000</td> <td>    0.003</td> <td>    0.005</td>\n",
       "</tr>\n",
       "<tr>\n",
       "  <th>x3</th> <td>   -0.0049</td> <td>    0.001</td> <td>   -6.005</td> <td> 0.000</td> <td>   -0.007</td> <td>   -0.003</td>\n",
       "</tr>\n",
       "<tr>\n",
       "  <th>x4</th> <td> 5.752e-05</td> <td>    0.001</td> <td>    0.049</td> <td> 0.961</td> <td>   -0.002</td> <td>    0.002</td>\n",
       "</tr>\n",
       "<tr>\n",
       "  <th>x5</th> <td> 4.783e-05</td> <td>    0.000</td> <td>    0.304</td> <td> 0.761</td> <td>   -0.000</td> <td>    0.000</td>\n",
       "</tr>\n",
       "<tr>\n",
       "  <th>x6</th> <td>    0.0042</td> <td>    0.002</td> <td>    2.094</td> <td> 0.037</td> <td>    0.000</td> <td>    0.008</td>\n",
       "</tr>\n",
       "<tr>\n",
       "  <th>x7</th> <td>    0.0980</td> <td>    0.048</td> <td>    2.059</td> <td> 0.040</td> <td>    0.005</td> <td>    0.191</td>\n",
       "</tr>\n",
       "<tr>\n",
       "  <th>x8</th> <td>   -0.0010</td> <td>    0.002</td> <td>   -0.652</td> <td> 0.515</td> <td>   -0.004</td> <td>    0.002</td>\n",
       "</tr>\n",
       "</table>\n",
       "<table class=\"simpletable\">\n",
       "<tr>\n",
       "  <th>Omnibus:</th>       <td>294.015</td> <th>  Durbin-Watson:     </th> <td>   2.034</td>\n",
       "</tr>\n",
       "<tr>\n",
       "  <th>Prob(Omnibus):</th> <td> 0.000</td>  <th>  Jarque-Bera (JB):  </th> <td>  80.012</td>\n",
       "</tr>\n",
       "<tr>\n",
       "  <th>Skew:</th>          <td> 0.574</td>  <th>  Prob(JB):          </th> <td>4.22e-18</td>\n",
       "</tr>\n",
       "<tr>\n",
       "  <th>Kurtosis:</th>      <td> 1.913</td>  <th>  Cond. No.          </th> <td>    575.</td>\n",
       "</tr>\n",
       "</table><br/><br/>Notes:<br/>[1] R² is computed without centering (uncentered) since the model does not contain a constant.<br/>[2] Standard Errors assume that the covariance matrix of the errors is correctly specified."
      ],
      "text/plain": [
       "<class 'statsmodels.iolib.summary.Summary'>\n",
       "\"\"\"\n",
       "                                 OLS Regression Results                                \n",
       "=======================================================================================\n",
       "Dep. Variable:                      y   R-squared (uncentered):                   0.487\n",
       "Model:                            OLS   Adj. R-squared (uncentered):              0.481\n",
       "Method:                 Least Squares   F-statistic:                              90.10\n",
       "Date:                Wed, 14 Dec 2022   Prob (F-statistic):                   9.04e-105\n",
       "Time:                        14:49:43   Log-Likelihood:                         -429.34\n",
       "No. Observations:                 768   AIC:                                      874.7\n",
       "Df Residuals:                     760   BIC:                                      911.8\n",
       "Df Model:                           8                                                  \n",
       "Covariance Type:            nonrobust                                                  \n",
       "==============================================================================\n",
       "                 coef    std err          t      P>|t|      [0.025      0.975]\n",
       "------------------------------------------------------------------------------\n",
       "x1             0.0247      0.005      4.536      0.000       0.014       0.035\n",
       "x2             0.0039      0.001      7.701      0.000       0.003       0.005\n",
       "x3            -0.0049      0.001     -6.005      0.000      -0.007      -0.003\n",
       "x4          5.752e-05      0.001      0.049      0.961      -0.002       0.002\n",
       "x5          4.783e-05      0.000      0.304      0.761      -0.000       0.000\n",
       "x6             0.0042      0.002      2.094      0.037       0.000       0.008\n",
       "x7             0.0980      0.048      2.059      0.040       0.005       0.191\n",
       "x8            -0.0010      0.002     -0.652      0.515      -0.004       0.002\n",
       "==============================================================================\n",
       "Omnibus:                      294.015   Durbin-Watson:                   2.034\n",
       "Prob(Omnibus):                  0.000   Jarque-Bera (JB):               80.012\n",
       "Skew:                           0.574   Prob(JB):                     4.22e-18\n",
       "Kurtosis:                       1.913   Cond. No.                         575.\n",
       "==============================================================================\n",
       "\n",
       "Notes:\n",
       "[1] R² is computed without centering (uncentered) since the model does not contain a constant.\n",
       "[2] Standard Errors assume that the covariance matrix of the errors is correctly specified.\n",
       "\"\"\""
      ]
     },
     "execution_count": 77,
     "metadata": {},
     "output_type": "execute_result"
    }
   ],
   "source": [
    "result.summary()"
   ]
  },
  {
   "cell_type": "code",
   "execution_count": null,
   "id": "7e195910",
   "metadata": {},
   "outputs": [],
   "source": []
  },
  {
   "cell_type": "code",
   "execution_count": null,
   "id": "57b9a807",
   "metadata": {},
   "outputs": [],
   "source": []
  }
 ],
 "metadata": {
  "kernelspec": {
   "display_name": "Python 3 (ipykernel)",
   "language": "python",
   "name": "python3"
  },
  "language_info": {
   "codemirror_mode": {
    "name": "ipython",
    "version": 3
   },
   "file_extension": ".py",
   "mimetype": "text/x-python",
   "name": "python",
   "nbconvert_exporter": "python",
   "pygments_lexer": "ipython3",
   "version": "3.10.8"
  }
 },
 "nbformat": 4,
 "nbformat_minor": 5
}
